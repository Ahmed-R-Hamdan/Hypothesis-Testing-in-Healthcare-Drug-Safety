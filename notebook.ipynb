{
 "cells": [
  {
   "cell_type": "markdown",
   "metadata": {},
   "source": [
    "# Hypothesis Testing in Healthcare: Drug Safety\n",
    "\n",
    "A pharmaceutical company GlobalXYZ has just completed a randomized controlled drug trial. To promote transparency and reproducibility of the drug's outcome, they (GlobalXYZ) have presented the dataset to your organization, a non-profit that focuses primarily on drug safety.\n",
    "\n",
    "The dataset provided contained five adverse effects, demographic data, vital signs, etc. Your organization is primarily interested in the drug's adverse reactions. It wants to know if the adverse reactions, if any, are of significant proportions. It has asked you to explore and answer some questions from the data.\n",
    "\n",
    "The dataset `drug_safety.csv` was obtained from [Hbiostat](https://hbiostat.org/data/) courtesy of the Vanderbilt University Department of Biostatistics. It contained five adverse effects: headache, abdominal pain, dyspepsia, upper respiratory infection, chronic obstructive airway disease (COAD), demographic data, vital signs, lab measures, etc. The ratio of drug observations to placebo observations is 2 to 1.\n",
    "\n",
    "For this project, the dataset has been modified to reflect the presence and absence of adverse effects `adverse_effects` and the number of adverse effects in a single individual `num_effects`.\n",
    "\n",
    "The columns in the modified dataset are: \n",
    "\n",
    "| Column | Description |\n",
    "|--------|-------------|\n",
    "|`sex` | The gender of the individual |\n",
    "|`age` | The age of the individual |\n",
    "|`week` | The week of the drug testing |\n",
    "|`trx` | The treatment (Drug) and control (Placebo) groups | \n",
    "|`wbc` | The count of white blood cells |\n",
    "|`rbc` | The count of red blood cells |\n",
    "|`adverse_effects` | The presence of at least a single adverse effect |\n",
    "|`num_effects` | The number of adverse effects experienced by a single individual |\n",
    "\n",
    "The original dataset can be found [here](https://hbiostat.org/data/repo/safety.rda).\n",
    "\n",
    "Your organization has asked you to explore and answer some questions from the data collected. See the project instructions."
   ]
  },
  {
   "cell_type": "code",
   "execution_count": 1,
   "metadata": {
    "executionCancelledAt": null,
    "executionTime": 3551,
    "lastExecutedAt": 1698956356360,
    "lastScheduledRunId": null,
    "lastSuccessfullyExecutedCode": "# Import packages\nimport numpy as np\nimport pandas as pd\nfrom statsmodels.stats.proportion import proportions_ztest\nimport pingouin\nimport seaborn as sns\nimport matplotlib.pyplot as plt\n\n# Load the dataset\ndrug_safety = pd.read_csv(\"drug_safety.csv\")\n\n# Start coding here..."
   },
   "outputs": [
    {
     "name": "stderr",
     "output_type": "stream",
     "text": [
      "C:\\Users\\AHamdan\\anaconda3\\lib\\site-packages\\pandas\\core\\computation\\expressions.py:20: UserWarning: Pandas requires version '2.7.3' or newer of 'numexpr' (version '2.7.1' currently installed).\n",
      "  from pandas.core.computation.check import NUMEXPR_INSTALLED\n"
     ]
    }
   ],
   "source": [
    "# Import packages\n",
    "import numpy as np\n",
    "import pandas as pd\n",
    "from statsmodels.stats.proportion import proportions_ztest\n",
    "import pingouin\n",
    "import seaborn as sns\n",
    "import matplotlib.pyplot as plt\n",
    "%matplotlib inline\n",
    "# Load the dataset\n",
    "drug_safety = pd.read_csv(\"drug_safety.csv\")\n",
    "\n",
    "# Start coding here..."
   ]
  },
  {
   "cell_type": "code",
   "execution_count": 2,
   "metadata": {},
   "outputs": [
    {
     "data": {
      "text/html": [
       "<div>\n",
       "<style scoped>\n",
       "    .dataframe tbody tr th:only-of-type {\n",
       "        vertical-align: middle;\n",
       "    }\n",
       "\n",
       "    .dataframe tbody tr th {\n",
       "        vertical-align: top;\n",
       "    }\n",
       "\n",
       "    .dataframe thead th {\n",
       "        text-align: right;\n",
       "    }\n",
       "</style>\n",
       "<table border=\"1\" class=\"dataframe\">\n",
       "  <thead>\n",
       "    <tr style=\"text-align: right;\">\n",
       "      <th></th>\n",
       "      <th>age</th>\n",
       "      <th>sex</th>\n",
       "      <th>trx</th>\n",
       "      <th>week</th>\n",
       "      <th>wbc</th>\n",
       "      <th>rbc</th>\n",
       "      <th>adverse_effects</th>\n",
       "      <th>num_effects</th>\n",
       "    </tr>\n",
       "  </thead>\n",
       "  <tbody>\n",
       "    <tr>\n",
       "      <th>7421</th>\n",
       "      <td>50</td>\n",
       "      <td>female</td>\n",
       "      <td>Placebo</td>\n",
       "      <td>0</td>\n",
       "      <td>6.6</td>\n",
       "      <td>4.6</td>\n",
       "      <td>No</td>\n",
       "      <td>0</td>\n",
       "    </tr>\n",
       "    <tr>\n",
       "      <th>12143</th>\n",
       "      <td>74</td>\n",
       "      <td>male</td>\n",
       "      <td>Drug</td>\n",
       "      <td>1</td>\n",
       "      <td>NaN</td>\n",
       "      <td>NaN</td>\n",
       "      <td>No</td>\n",
       "      <td>0</td>\n",
       "    </tr>\n",
       "    <tr>\n",
       "      <th>6823</th>\n",
       "      <td>73</td>\n",
       "      <td>male</td>\n",
       "      <td>Drug</td>\n",
       "      <td>20</td>\n",
       "      <td>NaN</td>\n",
       "      <td>NaN</td>\n",
       "      <td>No</td>\n",
       "      <td>0</td>\n",
       "    </tr>\n",
       "    <tr>\n",
       "      <th>12296</th>\n",
       "      <td>75</td>\n",
       "      <td>male</td>\n",
       "      <td>Drug</td>\n",
       "      <td>4</td>\n",
       "      <td>5.3</td>\n",
       "      <td>4.5</td>\n",
       "      <td>No</td>\n",
       "      <td>0</td>\n",
       "    </tr>\n",
       "    <tr>\n",
       "      <th>15351</th>\n",
       "      <td>65</td>\n",
       "      <td>male</td>\n",
       "      <td>Drug</td>\n",
       "      <td>20</td>\n",
       "      <td>NaN</td>\n",
       "      <td>NaN</td>\n",
       "      <td>Yes</td>\n",
       "      <td>1</td>\n",
       "    </tr>\n",
       "    <tr>\n",
       "      <th>5460</th>\n",
       "      <td>68</td>\n",
       "      <td>male</td>\n",
       "      <td>Placebo</td>\n",
       "      <td>2</td>\n",
       "      <td>NaN</td>\n",
       "      <td>NaN</td>\n",
       "      <td>No</td>\n",
       "      <td>0</td>\n",
       "    </tr>\n",
       "    <tr>\n",
       "      <th>783</th>\n",
       "      <td>66</td>\n",
       "      <td>male</td>\n",
       "      <td>Drug</td>\n",
       "      <td>0</td>\n",
       "      <td>5.2</td>\n",
       "      <td>4.9</td>\n",
       "      <td>No</td>\n",
       "      <td>0</td>\n",
       "    </tr>\n",
       "    <tr>\n",
       "      <th>13071</th>\n",
       "      <td>66</td>\n",
       "      <td>male</td>\n",
       "      <td>Drug</td>\n",
       "      <td>2</td>\n",
       "      <td>7.8</td>\n",
       "      <td>5.0</td>\n",
       "      <td>No</td>\n",
       "      <td>0</td>\n",
       "    </tr>\n",
       "    <tr>\n",
       "      <th>4363</th>\n",
       "      <td>74</td>\n",
       "      <td>male</td>\n",
       "      <td>Drug</td>\n",
       "      <td>16</td>\n",
       "      <td>NaN</td>\n",
       "      <td>NaN</td>\n",
       "      <td>No</td>\n",
       "      <td>0</td>\n",
       "    </tr>\n",
       "    <tr>\n",
       "      <th>12926</th>\n",
       "      <td>57</td>\n",
       "      <td>male</td>\n",
       "      <td>Drug</td>\n",
       "      <td>16</td>\n",
       "      <td>NaN</td>\n",
       "      <td>NaN</td>\n",
       "      <td>No</td>\n",
       "      <td>0</td>\n",
       "    </tr>\n",
       "  </tbody>\n",
       "</table>\n",
       "</div>"
      ],
      "text/plain": [
       "       age     sex      trx  week  wbc  rbc adverse_effects  num_effects\n",
       "7421    50  female  Placebo     0  6.6  4.6              No            0\n",
       "12143   74    male     Drug     1  NaN  NaN              No            0\n",
       "6823    73    male     Drug    20  NaN  NaN              No            0\n",
       "12296   75    male     Drug     4  5.3  4.5              No            0\n",
       "15351   65    male     Drug    20  NaN  NaN             Yes            1\n",
       "5460    68    male  Placebo     2  NaN  NaN              No            0\n",
       "783     66    male     Drug     0  5.2  4.9              No            0\n",
       "13071   66    male     Drug     2  7.8  5.0              No            0\n",
       "4363    74    male     Drug    16  NaN  NaN              No            0\n",
       "12926   57    male     Drug    16  NaN  NaN              No            0"
      ]
     },
     "execution_count": 2,
     "metadata": {},
     "output_type": "execute_result"
    }
   ],
   "source": [
    "drug_safety.sample(10)"
   ]
  },
  {
   "cell_type": "code",
   "execution_count": 3,
   "metadata": {},
   "outputs": [
    {
     "name": "stdout",
     "output_type": "stream",
     "text": [
      "<class 'pandas.core.frame.DataFrame'>\n",
      "RangeIndex: 16103 entries, 0 to 16102\n",
      "Data columns (total 8 columns):\n",
      " #   Column           Non-Null Count  Dtype  \n",
      "---  ------           --------------  -----  \n",
      " 0   age              16103 non-null  int64  \n",
      " 1   sex              16103 non-null  object \n",
      " 2   trx              16103 non-null  object \n",
      " 3   week             16103 non-null  int64  \n",
      " 4   wbc              9128 non-null   float64\n",
      " 5   rbc              9127 non-null   float64\n",
      " 6   adverse_effects  16103 non-null  object \n",
      " 7   num_effects      16103 non-null  int64  \n",
      "dtypes: float64(2), int64(3), object(3)\n",
      "memory usage: 1006.6+ KB\n"
     ]
    }
   ],
   "source": [
    "drug_safety.info()"
   ]
  },
  {
   "cell_type": "markdown",
   "metadata": {},
   "source": [
    "## Q-1) Determine if the proportion of adverse effects differs significantly between the Drug and Placebo groups, saving the p-value as a variable called two_sample_p_value."
   ]
  },
  {
   "cell_type": "markdown",
   "metadata": {},
   "source": [
    "$H_0$  : Proportion of adverse effectes is the same for Drug and Placebo groups\n",
    "\n",
    "$H_0$ : P(drug) - P(placebo) = 0\n",
    "\n",
    "$H_A$  : Proportion of adverse effectes is different for Drug and Placebo groups\n",
    "\n",
    "$H_A$  : P(drug) - P(placebo) != 0"
   ]
  },
  {
   "cell_type": "markdown",
   "metadata": {},
   "source": [
    "### Solution A\n",
    "\n",
    "Caluculate Z score"
   ]
  },
  {
   "cell_type": "code",
   "execution_count": 4,
   "metadata": {},
   "outputs": [
    {
     "data": {
      "text/plain": [
       "trx      adverse_effects\n",
       "Drug     No                 0.904540\n",
       "         Yes                0.095460\n",
       "Placebo  No                 0.904762\n",
       "         Yes                0.095238\n",
       "Name: proportion, dtype: float64"
      ]
     },
     "execution_count": 4,
     "metadata": {},
     "output_type": "execute_result"
    }
   ],
   "source": [
    "#get the prpoprtion of deverse effects for each group\n",
    "prop_hat = drug_safety.groupby('trx')['adverse_effects'].value_counts(normalize = True)\n",
    "prop_hat"
   ]
  },
  {
   "cell_type": "code",
   "execution_count": 5,
   "metadata": {},
   "outputs": [
    {
     "data": {
      "text/plain": [
       "0.09546005406917125"
      ]
     },
     "execution_count": 5,
     "metadata": {},
     "output_type": "execute_result"
    }
   ],
   "source": [
    "prop_hat_drug = prop_hat[('Drug', 'Yes')]\n",
    "prop_hat_drug"
   ]
  },
  {
   "cell_type": "code",
   "execution_count": 6,
   "metadata": {},
   "outputs": [
    {
     "data": {
      "text/plain": [
       "0.09523809523809523"
      ]
     },
     "execution_count": 6,
     "metadata": {},
     "output_type": "execute_result"
    }
   ],
   "source": [
    "prop_hat_placebo = prop_hat[('Placebo', 'Yes')]\n",
    "prop_hat_placebo"
   ]
  },
  {
   "cell_type": "code",
   "execution_count": 7,
   "metadata": {},
   "outputs": [
    {
     "data": {
      "text/plain": [
       "trx\n",
       "Drug       10727\n",
       "Placebo     5376\n",
       "dtype: int64"
      ]
     },
     "execution_count": 7,
     "metadata": {},
     "output_type": "execute_result"
    }
   ],
   "source": [
    "#get the number of data set for each group\n",
    "n = drug_safety.groupby('trx').size()\n",
    "n"
   ]
  },
  {
   "cell_type": "code",
   "execution_count": 8,
   "metadata": {},
   "outputs": [
    {
     "data": {
      "text/plain": [
       "10727"
      ]
     },
     "execution_count": 8,
     "metadata": {},
     "output_type": "execute_result"
    }
   ],
   "source": [
    "n_drug = n['Drug']\n",
    "n_drug"
   ]
  },
  {
   "cell_type": "code",
   "execution_count": 9,
   "metadata": {},
   "outputs": [
    {
     "data": {
      "text/plain": [
       "5376"
      ]
     },
     "execution_count": 9,
     "metadata": {},
     "output_type": "execute_result"
    }
   ],
   "source": [
    "n_placebo = n['Placebo']\n",
    "n_placebo"
   ]
  },
  {
   "cell_type": "code",
   "execution_count": 10,
   "metadata": {},
   "outputs": [
    {
     "data": {
      "text/plain": [
       "0.09538595292802583"
      ]
     },
     "execution_count": 10,
     "metadata": {},
     "output_type": "execute_result"
    }
   ],
   "source": [
    "#calculate z score paramters\n",
    "p_hat = (n_drug * prop_hat_drug + n_placebo * prop_hat_placebo) / (n_drug + n_placebo)\n",
    "p_hat"
   ]
  },
  {
   "cell_type": "code",
   "execution_count": 11,
   "metadata": {},
   "outputs": [
    {
     "data": {
      "text/plain": [
       "0.004908609698841853"
      ]
     },
     "execution_count": 11,
     "metadata": {},
     "output_type": "execute_result"
    }
   ],
   "source": [
    "std_error = np.sqrt(p_hat * (1-p_hat) / n_drug + \n",
    "                    p_hat * (1-p_hat) / n_placebo)\n",
    "std_error"
   ]
  },
  {
   "cell_type": "code",
   "execution_count": 12,
   "metadata": {},
   "outputs": [
    {
     "data": {
      "text/plain": [
       "0.0452182684494942"
      ]
     },
     "execution_count": 12,
     "metadata": {},
     "output_type": "execute_result"
    }
   ],
   "source": [
    "z_score = (prop_hat_drug-prop_hat_placebo ) / std_error\n",
    "z_score"
   ]
  },
  {
   "cell_type": "code",
   "execution_count": 13,
   "metadata": {},
   "outputs": [],
   "source": [
    "from scipy.stats import norm\n",
    "p_val =2*(1- norm.cdf(z_score))"
   ]
  },
  {
   "cell_type": "code",
   "execution_count": 14,
   "metadata": {},
   "outputs": [
    {
     "data": {
      "text/plain": [
       "0.9639333330262474"
      ]
     },
     "execution_count": 14,
     "metadata": {},
     "output_type": "execute_result"
    }
   ],
   "source": [
    "p_val"
   ]
  },
  {
   "cell_type": "code",
   "execution_count": null,
   "metadata": {},
   "outputs": [],
   "source": []
  },
  {
   "cell_type": "markdown",
   "metadata": {},
   "source": [
    "## Solution B\n",
    "Doing proportion test using proportions_ztest() from statsmodels directly\n",
    "This function requires two objects as numpy arrays\n",
    "1- Number of adverse effects in each grroup\n",
    "2- Total number of rows in each trx group"
   ]
  },
  {
   "cell_type": "code",
   "execution_count": 15,
   "metadata": {},
   "outputs": [
    {
     "data": {
      "text/plain": [
       "trx      adverse_effects\n",
       "Drug     No                 9703\n",
       "         Yes                1024\n",
       "Placebo  No                 4864\n",
       "         Yes                 512\n",
       "Name: count, dtype: int64"
      ]
     },
     "execution_count": 15,
     "metadata": {},
     "output_type": "execute_result"
    }
   ],
   "source": [
    "#get the required objects\n",
    "drug_safety.groupby('trx')['adverse_effects'].value_counts()"
   ]
  },
  {
   "cell_type": "code",
   "execution_count": 16,
   "metadata": {},
   "outputs": [],
   "source": [
    "n_adverse_effects = np.array([1024, 512])\n",
    "n_rows = np.array([9703+1024 , 4864+512])"
   ]
  },
  {
   "cell_type": "code",
   "execution_count": 17,
   "metadata": {},
   "outputs": [],
   "source": [
    "from statsmodels.stats.proportion import proportions_ztest\n",
    "z_score, two_sample_p_value = proportions_ztest(count = n_adverse_effects, nobs = n_rows, alternative = 'two-sided')"
   ]
  },
  {
   "cell_type": "code",
   "execution_count": 18,
   "metadata": {},
   "outputs": [
    {
     "name": "stdout",
     "output_type": "stream",
     "text": [
      "0.0452182684494942 0.9639333330262475\n"
     ]
    }
   ],
   "source": [
    "print(z_score, two_sample_p_value)"
   ]
  },
  {
   "cell_type": "markdown",
   "metadata": {},
   "source": [
    "## Solution C \n",
    "Using chi-square\n",
    "- Since the Z-test used to comparing the difference in population proportions between 2 groups and The Chi-square test is used when comparing the difference in population proportions between 2 or more groups"
   ]
  },
  {
   "cell_type": "code",
   "execution_count": 55,
   "metadata": {},
   "outputs": [
    {
     "data": {
      "text/html": [
       "<div>\n",
       "<style scoped>\n",
       "    .dataframe tbody tr th:only-of-type {\n",
       "        vertical-align: middle;\n",
       "    }\n",
       "\n",
       "    .dataframe tbody tr th {\n",
       "        vertical-align: top;\n",
       "    }\n",
       "\n",
       "    .dataframe thead th {\n",
       "        text-align: right;\n",
       "    }\n",
       "</style>\n",
       "<table border=\"1\" class=\"dataframe\">\n",
       "  <thead>\n",
       "    <tr style=\"text-align: right;\">\n",
       "      <th></th>\n",
       "      <th>test</th>\n",
       "      <th>lambda</th>\n",
       "      <th>chi2</th>\n",
       "      <th>dof</th>\n",
       "      <th>pval</th>\n",
       "      <th>cramer</th>\n",
       "      <th>power</th>\n",
       "    </tr>\n",
       "  </thead>\n",
       "  <tbody>\n",
       "    <tr>\n",
       "      <th>0</th>\n",
       "      <td>pearson</td>\n",
       "      <td>1.000000</td>\n",
       "      <td>0.002045</td>\n",
       "      <td>1.0</td>\n",
       "      <td>0.963933</td>\n",
       "      <td>0.000356</td>\n",
       "      <td>0.050234</td>\n",
       "    </tr>\n",
       "    <tr>\n",
       "      <th>1</th>\n",
       "      <td>cressie-read</td>\n",
       "      <td>0.666667</td>\n",
       "      <td>0.002045</td>\n",
       "      <td>1.0</td>\n",
       "      <td>0.963932</td>\n",
       "      <td>0.000356</td>\n",
       "      <td>0.050234</td>\n",
       "    </tr>\n",
       "    <tr>\n",
       "      <th>2</th>\n",
       "      <td>log-likelihood</td>\n",
       "      <td>0.000000</td>\n",
       "      <td>0.002045</td>\n",
       "      <td>1.0</td>\n",
       "      <td>0.963929</td>\n",
       "      <td>0.000356</td>\n",
       "      <td>0.050234</td>\n",
       "    </tr>\n",
       "    <tr>\n",
       "      <th>3</th>\n",
       "      <td>freeman-tukey</td>\n",
       "      <td>-0.500000</td>\n",
       "      <td>0.002045</td>\n",
       "      <td>1.0</td>\n",
       "      <td>0.963927</td>\n",
       "      <td>0.000356</td>\n",
       "      <td>0.050234</td>\n",
       "    </tr>\n",
       "    <tr>\n",
       "      <th>4</th>\n",
       "      <td>mod-log-likelihood</td>\n",
       "      <td>-1.000000</td>\n",
       "      <td>0.002046</td>\n",
       "      <td>1.0</td>\n",
       "      <td>0.963925</td>\n",
       "      <td>0.000356</td>\n",
       "      <td>0.050234</td>\n",
       "    </tr>\n",
       "    <tr>\n",
       "      <th>5</th>\n",
       "      <td>neyman</td>\n",
       "      <td>-2.000000</td>\n",
       "      <td>0.002046</td>\n",
       "      <td>1.0</td>\n",
       "      <td>0.963921</td>\n",
       "      <td>0.000356</td>\n",
       "      <td>0.050234</td>\n",
       "    </tr>\n",
       "  </tbody>\n",
       "</table>\n",
       "</div>"
      ],
      "text/plain": [
       "                 test    lambda      chi2  dof      pval    cramer     power\n",
       "0             pearson  1.000000  0.002045  1.0  0.963933  0.000356  0.050234\n",
       "1        cressie-read  0.666667  0.002045  1.0  0.963932  0.000356  0.050234\n",
       "2      log-likelihood  0.000000  0.002045  1.0  0.963929  0.000356  0.050234\n",
       "3       freeman-tukey -0.500000  0.002045  1.0  0.963927  0.000356  0.050234\n",
       "4  mod-log-likelihood -1.000000  0.002046  1.0  0.963925  0.000356  0.050234\n",
       "5              neyman -2.000000  0.002046  1.0  0.963921  0.000356  0.050234"
      ]
     },
     "execution_count": 55,
     "metadata": {},
     "output_type": "execute_result"
    }
   ],
   "source": [
    "expected, observed, stats = pingouin.chi2_independence(data = drug_safety, x= 'trx', y = 'adverse_effects' , correction = False)\n",
    "stats"
   ]
  },
  {
   "cell_type": "code",
   "execution_count": 42,
   "metadata": {},
   "outputs": [
    {
     "data": {
      "text/plain": [
       "0.9866161797847002"
      ]
     },
     "execution_count": 42,
     "metadata": {},
     "output_type": "execute_result"
    }
   ],
   "source": [
    "two_sample_p_value = stats['pval'][0]\n",
    "two_sample_p_value"
   ]
  },
  {
   "cell_type": "markdown",
   "metadata": {},
   "source": [
    "Accroding to two_sample_p_value we fail to reject the Null Hypothesis  "
   ]
  },
  {
   "cell_type": "markdown",
   "metadata": {},
   "source": [
    "## Q-2 Find out if the number of adverse effects is independent of the treatment and control groups, saving as a variable called num_effects_p_value containing a p-value."
   ]
  },
  {
   "cell_type": "markdown",
   "metadata": {},
   "source": [
    "$H_0$ adverse effects is independent of the treatment and control groups\n",
    "\n",
    "$H_A$ adverse effects is independent of the treatment and control groups"
   ]
  },
  {
   "cell_type": "code",
   "execution_count": 51,
   "metadata": {},
   "outputs": [
    {
     "name": "stderr",
     "output_type": "stream",
     "text": [
      "C:\\Users\\AHamdan\\anaconda3\\lib\\site-packages\\pingouin\\contingency.py:151: UserWarning: Low count on observed frequencies.\n",
      "  warnings.warn(f\"Low count on {name} frequencies.\")\n",
      "C:\\Users\\AHamdan\\anaconda3\\lib\\site-packages\\pingouin\\contingency.py:151: UserWarning: Low count on expected frequencies.\n",
      "  warnings.warn(f\"Low count on {name} frequencies.\")\n"
     ]
    }
   ],
   "source": [
    "# Determine if num_effects and trx are independent\n",
    "num_effects_groups = pingouin.chi2_independence(data=drug_safety, x=\"num_effects\", y=\"trx\", correction = False)"
   ]
  },
  {
   "cell_type": "code",
   "execution_count": 52,
   "metadata": {},
   "outputs": [
    {
     "data": {
      "text/plain": [
       "(trx                 Drug      Placebo\n",
       " num_effects                          \n",
       " 0            9703.794883  4863.205117\n",
       " 1             960.587096   481.412904\n",
       " 2              58.621126    29.378874\n",
       " 3               3.996895     2.003105,\n",
       " trx          Drug  Placebo\n",
       " num_effects               \n",
       " 0            9703     4864\n",
       " 1             956      486\n",
       " 2              63       25\n",
       " 3               5        1,\n",
       "                  test    lambda      chi2  dof      pval    cramer     power\n",
       " 0             pearson  1.000000  1.799644  3.0  0.615012  0.010572  0.176275\n",
       " 1        cressie-read  0.666667  1.836006  3.0  0.607131  0.010678  0.179153\n",
       " 2      log-likelihood  0.000000  1.922495  3.0  0.588648  0.010926  0.186033\n",
       " 3       freeman-tukey -0.500000  2.001752  3.0  0.572043  0.011149  0.192379\n",
       " 4  mod-log-likelihood -1.000000  2.096158  3.0  0.552690  0.011409  0.199984\n",
       " 5              neyman -2.000000  2.344303  3.0  0.504087  0.012066  0.220189)"
      ]
     },
     "execution_count": 52,
     "metadata": {},
     "output_type": "execute_result"
    }
   ],
   "source": [
    "num_effects_groups"
   ]
  },
  {
   "cell_type": "code",
   "execution_count": 58,
   "metadata": {},
   "outputs": [
    {
     "data": {
      "text/plain": [
       "0.6150123339426765"
      ]
     },
     "execution_count": 58,
     "metadata": {},
     "output_type": "execute_result"
    }
   ],
   "source": [
    "# Extract the p-value\n",
    "num_effects_p_value = num_effects_groups[2][\"pval\"][0]\n",
    "num_effects_p_value"
   ]
  },
  {
   "cell_type": "markdown",
   "metadata": {},
   "source": [
    "Accroding to two_sample_p_value we fail to reject the Null Hypothesis  "
   ]
  },
  {
   "cell_type": "markdown",
   "metadata": {},
   "source": [
    "## Q3) Examine if there is a significant difference between the ages of the Drug and Placebo groups, storing the p-value of your test in a variable called age_group_effects_p_value."
   ]
  },
  {
   "cell_type": "markdown",
   "metadata": {},
   "source": [
    "$H_0$  : Age of drug group is the same as age of placebo group\n",
    "\n",
    "$H_0$ : Age(drug) - Age(placebo) = 0\n",
    "\n",
    "$H_A$  : Age of drug group is different from age of placebo group\n",
    "\n",
    "$H_A$  : Age(drug) - Age(placebo) != 0"
   ]
  },
  {
   "cell_type": "markdown",
   "metadata": {},
   "source": [
    "## Check normality\n",
    "### 1- Plot histogram"
   ]
  },
  {
   "cell_type": "code",
   "execution_count": 23,
   "metadata": {},
   "outputs": [
    {
     "data": {
      "image/png": "[encoded data removed]",
      "text/plain": [
       "<Figure size 640x480 with 1 Axes>"
      ]
     },
     "metadata": {},
     "output_type": "display_data"
    }
   ],
   "source": [
    "drug_safety[drug_safety['trx'] == 'Drug']['age'].hist();"
   ]
  },
  {
   "cell_type": "code",
   "execution_count": 24,
   "metadata": {},
   "outputs": [
    {
     "data": {
      "image/png": "[encoded data removed]",
      "text/plain": [
       "<Figure size 640x480 with 1 Axes>"
      ]
     },
     "metadata": {},
     "output_type": "display_data"
    }
   ],
   "source": [
    "drug_safety[drug_safety['trx'] == 'Placebo'].age.hist();"
   ]
  },
  {
   "cell_type": "markdown",
   "metadata": {},
   "source": [
    "### 2- Q-Q plot"
   ]
  },
  {
   "cell_type": "code",
   "execution_count": 25,
   "metadata": {},
   "outputs": [],
   "source": [
    "import statsmodels.api as sm"
   ]
  },
  {
   "cell_type": "code",
   "execution_count": 26,
   "metadata": {},
   "outputs": [
    {
     "data": {
      "image/png": "[encoded data removed]",
      "text/plain": [
       "<Figure size 640x480 with 1 Axes>"
      ]
     },
     "metadata": {},
     "output_type": "display_data"
    }
   ],
   "source": [
    "fig = sm.qqplot(drug_safety[drug_safety['trx'] == 'Drug'].age, line = '45')\n",
    "plt.title('Normality for Age for Drug Group')\n",
    "plt.show()"
   ]
  },
  {
   "cell_type": "code",
   "execution_count": 27,
   "metadata": {},
   "outputs": [
    {
     "data": {
      "image/png": "[encoded data removed]",
      "text/plain": [
       "<Figure size 640x480 with 1 Axes>"
      ]
     },
     "metadata": {},
     "output_type": "display_data"
    }
   ],
   "source": [
    "fig = sm.qqplot(drug_safety[drug_safety['trx'] == 'Placebo'].age, line = '45')\n",
    "plt.title('Normality for Age for Placebo Group')\n",
    "plt.show()"
   ]
  },
  {
   "cell_type": "markdown",
   "metadata": {},
   "source": [
    "### 3- Shapiro using scipy"
   ]
  },
  {
   "cell_type": "code",
   "execution_count": 28,
   "metadata": {},
   "outputs": [
    {
     "name": "stderr",
     "output_type": "stream",
     "text": [
      "C:\\Users\\AHamdan\\anaconda3\\lib\\site-packages\\scipy\\stats\\_morestats.py:1800: UserWarning: p-value may not be accurate for N > 5000.\n",
      "  warnings.warn(\"p-value may not be accurate for N > 5000.\")\n"
     ]
    },
    {
     "data": {
      "text/plain": [
       "ShapiroResult(statistic=0.9767849445343018, pvalue=2.1891523216101626e-38)"
      ]
     },
     "execution_count": 28,
     "metadata": {},
     "output_type": "execute_result"
    }
   ],
   "source": [
    "from scipy import stats\n",
    "shapiro_Drug = stats.shapiro(drug_safety[drug_safety['trx'] == 'Drug'].age)\n",
    "shapiro_Drug"
   ]
  },
  {
   "cell_type": "code",
   "execution_count": 29,
   "metadata": {},
   "outputs": [
    {
     "data": {
      "text/plain": [
       "ShapiroResult(statistic=0.9755954742431641, pvalue=2.224949827552798e-29)"
      ]
     },
     "execution_count": 29,
     "metadata": {},
     "output_type": "execute_result"
    }
   ],
   "source": [
    "shapiro_Placebo = stats.shapiro(drug_safety[drug_safety['trx'] == 'Placebo'].age)\n",
    "shapiro_Placebo"
   ]
  },
  {
   "cell_type": "markdown",
   "metadata": {},
   "source": [
    "### 4- Shapiro using pingouin"
   ]
  },
  {
   "cell_type": "code",
   "execution_count": 30,
   "metadata": {},
   "outputs": [
    {
     "name": "stderr",
     "output_type": "stream",
     "text": [
      "C:\\Users\\AHamdan\\anaconda3\\lib\\site-packages\\scipy\\stats\\_morestats.py:1800: UserWarning: p-value may not be accurate for N > 5000.\n",
      "  warnings.warn(\"p-value may not be accurate for N > 5000.\")\n",
      "C:\\Users\\AHamdan\\anaconda3\\lib\\site-packages\\scipy\\stats\\_morestats.py:1800: UserWarning: p-value may not be accurate for N > 5000.\n",
      "  warnings.warn(\"p-value may not be accurate for N > 5000.\")\n"
     ]
    }
   ],
   "source": [
    "normality = pingouin.normality(\n",
    "    data=drug_safety,\n",
    "    dv='age',\n",
    "    group='trx',\n",
    "    method='shapiro', # the default\n",
    "    alpha=0.05) # 0.05 is also the default"
   ]
  },
  {
   "cell_type": "code",
   "execution_count": 31,
   "metadata": {},
   "outputs": [
    {
     "data": {
      "text/html": [
       "<div>\n",
       "<style scoped>\n",
       "    .dataframe tbody tr th:only-of-type {\n",
       "        vertical-align: middle;\n",
       "    }\n",
       "\n",
       "    .dataframe tbody tr th {\n",
       "        vertical-align: top;\n",
       "    }\n",
       "\n",
       "    .dataframe thead th {\n",
       "        text-align: right;\n",
       "    }\n",
       "</style>\n",
       "<table border=\"1\" class=\"dataframe\">\n",
       "  <thead>\n",
       "    <tr style=\"text-align: right;\">\n",
       "      <th></th>\n",
       "      <th>W</th>\n",
       "      <th>pval</th>\n",
       "      <th>normal</th>\n",
       "    </tr>\n",
       "    <tr>\n",
       "      <th>trx</th>\n",
       "      <th></th>\n",
       "      <th></th>\n",
       "      <th></th>\n",
       "    </tr>\n",
       "  </thead>\n",
       "  <tbody>\n",
       "    <tr>\n",
       "      <th>Drug</th>\n",
       "      <td>0.976785</td>\n",
       "      <td>2.189152e-38</td>\n",
       "      <td>False</td>\n",
       "    </tr>\n",
       "    <tr>\n",
       "      <th>Placebo</th>\n",
       "      <td>0.975595</td>\n",
       "      <td>2.224950e-29</td>\n",
       "      <td>False</td>\n",
       "    </tr>\n",
       "  </tbody>\n",
       "</table>\n",
       "</div>"
      ],
      "text/plain": [
       "                W          pval  normal\n",
       "trx                                    \n",
       "Drug     0.976785  2.189152e-38   False\n",
       "Placebo  0.975595  2.224950e-29   False"
      ]
     },
     "execution_count": 31,
     "metadata": {},
     "output_type": "execute_result"
    }
   ],
   "source": [
    "normality"
   ]
  },
  {
   "cell_type": "markdown",
   "metadata": {},
   "source": [
    "## Since data in non-normal we will use Mann Whitney U test"
   ]
  },
  {
   "cell_type": "markdown",
   "metadata": {},
   "source": [
    "### Get P-Value Using Shapiro"
   ]
  },
  {
   "cell_type": "code",
   "execution_count": 32,
   "metadata": {},
   "outputs": [],
   "source": [
    "trx_age = drug_safety[['trx','age']]"
   ]
  },
  {
   "cell_type": "code",
   "execution_count": 33,
   "metadata": {},
   "outputs": [
    {
     "data": {
      "text/html": [
       "<div>\n",
       "<style scoped>\n",
       "    .dataframe tbody tr th:only-of-type {\n",
       "        vertical-align: middle;\n",
       "    }\n",
       "\n",
       "    .dataframe tbody tr th {\n",
       "        vertical-align: top;\n",
       "    }\n",
       "\n",
       "    .dataframe thead th {\n",
       "        text-align: right;\n",
       "    }\n",
       "</style>\n",
       "<table border=\"1\" class=\"dataframe\">\n",
       "  <thead>\n",
       "    <tr style=\"text-align: right;\">\n",
       "      <th>trx</th>\n",
       "      <th>Drug</th>\n",
       "      <th>Placebo</th>\n",
       "    </tr>\n",
       "  </thead>\n",
       "  <tbody>\n",
       "    <tr>\n",
       "      <th>0</th>\n",
       "      <td>62.0</td>\n",
       "      <td>NaN</td>\n",
       "    </tr>\n",
       "    <tr>\n",
       "      <th>1</th>\n",
       "      <td>62.0</td>\n",
       "      <td>NaN</td>\n",
       "    </tr>\n",
       "    <tr>\n",
       "      <th>2</th>\n",
       "      <td>62.0</td>\n",
       "      <td>NaN</td>\n",
       "    </tr>\n",
       "    <tr>\n",
       "      <th>3</th>\n",
       "      <td>62.0</td>\n",
       "      <td>NaN</td>\n",
       "    </tr>\n",
       "    <tr>\n",
       "      <th>4</th>\n",
       "      <td>62.0</td>\n",
       "      <td>NaN</td>\n",
       "    </tr>\n",
       "  </tbody>\n",
       "</table>\n",
       "</div>"
      ],
      "text/plain": [
       "trx  Drug  Placebo\n",
       "0    62.0      NaN\n",
       "1    62.0      NaN\n",
       "2    62.0      NaN\n",
       "3    62.0      NaN\n",
       "4    62.0      NaN"
      ]
     },
     "execution_count": 33,
     "metadata": {},
     "output_type": "execute_result"
    }
   ],
   "source": [
    "trx_age_wide = trx_age.pivot(columns = 'trx', values = 'age')\n",
    "trx_age_wide.head()"
   ]
  },
  {
   "cell_type": "code",
   "execution_count": 34,
   "metadata": {},
   "outputs": [
    {
     "data": {
      "text/html": [
       "<div>\n",
       "<style scoped>\n",
       "    .dataframe tbody tr th:only-of-type {\n",
       "        vertical-align: middle;\n",
       "    }\n",
       "\n",
       "    .dataframe tbody tr th {\n",
       "        vertical-align: top;\n",
       "    }\n",
       "\n",
       "    .dataframe thead th {\n",
       "        text-align: right;\n",
       "    }\n",
       "</style>\n",
       "<table border=\"1\" class=\"dataframe\">\n",
       "  <thead>\n",
       "    <tr style=\"text-align: right;\">\n",
       "      <th></th>\n",
       "      <th>U-val</th>\n",
       "      <th>alternative</th>\n",
       "      <th>p-val</th>\n",
       "      <th>RBC</th>\n",
       "      <th>CLES</th>\n",
       "    </tr>\n",
       "  </thead>\n",
       "  <tbody>\n",
       "    <tr>\n",
       "      <th>MWU</th>\n",
       "      <td>29149339.5</td>\n",
       "      <td>two-sided</td>\n",
       "      <td>0.256963</td>\n",
       "      <td>-0.01093</td>\n",
       "      <td>0.505465</td>\n",
       "    </tr>\n",
       "  </tbody>\n",
       "</table>\n",
       "</div>"
      ],
      "text/plain": [
       "          U-val alternative     p-val      RBC      CLES\n",
       "MWU  29149339.5   two-sided  0.256963 -0.01093  0.505465"
      ]
     },
     "execution_count": 34,
     "metadata": {},
     "output_type": "execute_result"
    }
   ],
   "source": [
    "results = pingouin.mwu(x= trx_age_wide['Drug'] , y= trx_age_wide['Placebo'], alternative = 'two-sided')\n",
    "results"
   ]
  },
  {
   "cell_type": "code",
   "execution_count": 35,
   "metadata": {},
   "outputs": [
    {
     "data": {
      "text/plain": [
       "0.25696267004066287"
      ]
     },
     "execution_count": 35,
     "metadata": {},
     "output_type": "execute_result"
    }
   ],
   "source": [
    "age_group_effects_p_value = results['p-val'][0]\n",
    "age_group_effects_p_value"
   ]
  },
  {
   "cell_type": "markdown",
   "metadata": {},
   "source": [
    "### Get P-Value using spicy"
   ]
  },
  {
   "cell_type": "code",
   "execution_count": 50,
   "metadata": {},
   "outputs": [
    {
     "data": {
      "text/plain": [
       "MannwhitneyuResult(statistic=29149339.5, pvalue=0.25696267004066287)"
      ]
     },
     "execution_count": 50,
     "metadata": {},
     "output_type": "execute_result"
    }
   ],
   "source": [
    "from scipy import stats\n",
    "stats.mannwhitneyu( drug_safety[drug_safety['trx'] == 'Drug']['age'],\n",
    "                    drug_safety[drug_safety['trx'] == 'Placebo']['age'], alternative= 'two-sided')"
   ]
  },
  {
   "cell_type": "markdown",
   "metadata": {},
   "source": [
    "According to p-value there is no significant difference in age between two groups"
   ]
  }
 ],
 "metadata": {
  "colab": {
   "name": "Welcome to DataCamp Workspaces.ipynb",
   "provenance": []
  },
  "kernelspec": {
   "display_name": "Python 3",
   "language": "python",
   "name": "python3"
  },
  "language_info": {
   "codemirror_mode": {
    "name": "ipython",
    "version": 3
   },
   "file_extension": ".py",
   "mimetype": "text/x-python",
   "name": "python",
   "nbconvert_exporter": "python",
   "pygments_lexer": "ipython3",
   "version": "3.8.3"
  }
 },
 "nbformat": 4,
 "nbformat_minor": 5
}
